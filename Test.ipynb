{
 "cells": [
  {
   "cell_type": "code",
   "execution_count": 1,
   "metadata": {},
   "outputs": [
    {
     "name": "stderr",
     "output_type": "stream",
     "text": [
      "/bin/sh: 1: google-chrome: not found\n",
      "/bin/sh: 1: google-chrome-stable: not found\n",
      "/bin/sh: 1: google-chrome-beta: not found\n",
      "/bin/sh: 1: google-chrome-dev: not found\n",
      "/bin/sh: 1: google-chrome: not found\n",
      "/bin/sh: 1: google-chrome-stable: not found\n",
      "/bin/sh: 1: google-chrome-beta: not found\n",
      "/bin/sh: 1: google-chrome-dev: not found\n"
     ]
    },
    {
     "ename": "AttributeError",
     "evalue": "'NoneType' object has no attribute 'split'",
     "output_type": "error",
     "traceback": [
      "\u001b[0;31m---------------------------------------------------------------------------\u001b[0m",
      "\u001b[0;31mAttributeError\u001b[0m                            Traceback (most recent call last)",
      "\u001b[1;32m/home/kprm-linux/GoogleTool/Test.ipynb Komórka 1\u001b[0m line \u001b[0;36m1\n\u001b[1;32m      <a href='vscode-notebook-cell:/home/kprm-linux/GoogleTool/Test.ipynb#W0sZmlsZQ%3D%3D?line=7'>8</a>\u001b[0m options\u001b[39m.\u001b[39madd_argument(\u001b[39m'\u001b[39m\u001b[39m--disable-gpu\u001b[39m\u001b[39m'\u001b[39m)\n\u001b[1;32m      <a href='vscode-notebook-cell:/home/kprm-linux/GoogleTool/Test.ipynb#W0sZmlsZQ%3D%3D?line=8'>9</a>\u001b[0m options\u001b[39m.\u001b[39madd_argument(\u001b[39m'\u001b[39m\u001b[39m--headless\u001b[39m\u001b[39m'\u001b[39m)\n\u001b[0;32m---> <a href='vscode-notebook-cell:/home/kprm-linux/GoogleTool/Test.ipynb#W0sZmlsZQ%3D%3D?line=9'>10</a>\u001b[0m driver \u001b[39m=\u001b[39m get_driver()\n\u001b[1;32m     <a href='vscode-notebook-cell:/home/kprm-linux/GoogleTool/Test.ipynb#W0sZmlsZQ%3D%3D?line=10'>11</a>\u001b[0m driver\u001b[39m.\u001b[39mget(\u001b[39m\"\u001b[39m\u001b[39mhttp://example.com\u001b[39m\u001b[39m\"\u001b[39m)\n\u001b[1;32m     <a href='vscode-notebook-cell:/home/kprm-linux/GoogleTool/Test.ipynb#W0sZmlsZQ%3D%3D?line=11'>12</a>\u001b[0m \u001b[39m#st.code(driver.page_source)\u001b[39;00m\n",
      "\u001b[1;32m/home/kprm-linux/GoogleTool/Test.ipynb Komórka 1\u001b[0m line \u001b[0;36m6\n\u001b[1;32m      <a href='vscode-notebook-cell:/home/kprm-linux/GoogleTool/Test.ipynb#W0sZmlsZQ%3D%3D?line=4'>5</a>\u001b[0m \u001b[39mdef\u001b[39;00m \u001b[39mget_driver\u001b[39m():\n\u001b[0;32m----> <a href='vscode-notebook-cell:/home/kprm-linux/GoogleTool/Test.ipynb#W0sZmlsZQ%3D%3D?line=5'>6</a>\u001b[0m     \u001b[39mreturn\u001b[39;00m webdriver\u001b[39m.\u001b[39mChrome(service\u001b[39m=\u001b[39mService(ChromeDriverManager()\u001b[39m.\u001b[39;49minstall()), options\u001b[39m=\u001b[39moptions)\n",
      "File \u001b[0;32m~/GoogleTool/.venvGT/lib/python3.10/site-packages/webdriver_manager/chrome.py:40\u001b[0m, in \u001b[0;36mChromeDriverManager.install\u001b[0;34m(self)\u001b[0m\n\u001b[1;32m     39\u001b[0m \u001b[39mdef\u001b[39;00m \u001b[39minstall\u001b[39m(\u001b[39mself\u001b[39m) \u001b[39m-\u001b[39m\u001b[39m>\u001b[39m \u001b[39mstr\u001b[39m:\n\u001b[0;32m---> 40\u001b[0m     driver_path \u001b[39m=\u001b[39m \u001b[39mself\u001b[39;49m\u001b[39m.\u001b[39;49m_get_driver_binary_path(\u001b[39mself\u001b[39;49m\u001b[39m.\u001b[39;49mdriver)\n\u001b[1;32m     41\u001b[0m     os\u001b[39m.\u001b[39mchmod(driver_path, \u001b[39m0o755\u001b[39m)\n\u001b[1;32m     42\u001b[0m     \u001b[39mreturn\u001b[39;00m driver_path\n",
      "File \u001b[0;32m~/GoogleTool/.venvGT/lib/python3.10/site-packages/webdriver_manager/core/manager.py:40\u001b[0m, in \u001b[0;36mDriverManager._get_driver_binary_path\u001b[0;34m(self, driver)\u001b[0m\n\u001b[1;32m     37\u001b[0m     \u001b[39mreturn\u001b[39;00m binary_path\n\u001b[1;32m     39\u001b[0m os_type \u001b[39m=\u001b[39m \u001b[39mself\u001b[39m\u001b[39m.\u001b[39mget_os_type()\n\u001b[0;32m---> 40\u001b[0m file \u001b[39m=\u001b[39m \u001b[39mself\u001b[39m\u001b[39m.\u001b[39m_download_manager\u001b[39m.\u001b[39mdownload_file(driver\u001b[39m.\u001b[39;49mget_driver_download_url(os_type))\n\u001b[1;32m     41\u001b[0m binary_path \u001b[39m=\u001b[39m \u001b[39mself\u001b[39m\u001b[39m.\u001b[39m_cache_manager\u001b[39m.\u001b[39msave_file_to_cache(driver, file)\n\u001b[1;32m     42\u001b[0m \u001b[39mreturn\u001b[39;00m binary_path\n",
      "File \u001b[0;32m~/GoogleTool/.venvGT/lib/python3.10/site-packages/webdriver_manager/drivers/chrome.py:32\u001b[0m, in \u001b[0;36mChromeDriver.get_driver_download_url\u001b[0;34m(self, os_type)\u001b[0m\n\u001b[1;32m     31\u001b[0m \u001b[39mdef\u001b[39;00m \u001b[39mget_driver_download_url\u001b[39m(\u001b[39mself\u001b[39m, os_type):\n\u001b[0;32m---> 32\u001b[0m     driver_version_to_download \u001b[39m=\u001b[39m \u001b[39mself\u001b[39;49m\u001b[39m.\u001b[39;49mget_driver_version_to_download()\n\u001b[1;32m     33\u001b[0m     \u001b[39m# For Mac ARM CPUs after version 106.0.5249.61 the format of OS type changed\u001b[39;00m\n\u001b[1;32m     34\u001b[0m     \u001b[39m# to more unified \"mac_arm64\". For newer versions, it'll be \"mac_arm64\"\u001b[39;00m\n\u001b[1;32m     35\u001b[0m     \u001b[39m# by default, for lower versions we replace \"mac_arm64\" to old format - \"mac64_m1\".\u001b[39;00m\n\u001b[1;32m     36\u001b[0m     \u001b[39mif\u001b[39;00m version\u001b[39m.\u001b[39mparse(driver_version_to_download) \u001b[39m<\u001b[39m version\u001b[39m.\u001b[39mparse(\u001b[39m\"\u001b[39m\u001b[39m106.0.5249.61\u001b[39m\u001b[39m\"\u001b[39m):\n",
      "File \u001b[0;32m~/GoogleTool/.venvGT/lib/python3.10/site-packages/webdriver_manager/core/driver.py:48\u001b[0m, in \u001b[0;36mDriver.get_driver_version_to_download\u001b[0;34m(self)\u001b[0m\n\u001b[1;32m     45\u001b[0m \u001b[39mif\u001b[39;00m \u001b[39mself\u001b[39m\u001b[39m.\u001b[39m_driver_version_to_download:\n\u001b[1;32m     46\u001b[0m     \u001b[39mreturn\u001b[39;00m \u001b[39mself\u001b[39m\u001b[39m.\u001b[39m_driver_version_to_download\n\u001b[0;32m---> 48\u001b[0m \u001b[39mreturn\u001b[39;00m \u001b[39mself\u001b[39;49m\u001b[39m.\u001b[39;49mget_latest_release_version()\n",
      "File \u001b[0;32m~/GoogleTool/.venvGT/lib/python3.10/site-packages/webdriver_manager/drivers/chrome.py:64\u001b[0m, in \u001b[0;36mChromeDriver.get_latest_release_version\u001b[0;34m(self)\u001b[0m\n\u001b[1;32m     62\u001b[0m     \u001b[39mreturn\u001b[39;00m determined_browser_version\n\u001b[1;32m     63\u001b[0m \u001b[39m# Remove the build version (the last segment) from determined_browser_version for version < 113\u001b[39;00m\n\u001b[0;32m---> 64\u001b[0m determined_browser_version \u001b[39m=\u001b[39m \u001b[39m\"\u001b[39m\u001b[39m.\u001b[39m\u001b[39m\"\u001b[39m\u001b[39m.\u001b[39mjoin(determined_browser_version\u001b[39m.\u001b[39;49msplit(\u001b[39m\"\u001b[39m\u001b[39m.\u001b[39m\u001b[39m\"\u001b[39m)[:\u001b[39m3\u001b[39m])\n\u001b[1;32m     65\u001b[0m latest_release_url \u001b[39m=\u001b[39m (\n\u001b[1;32m     66\u001b[0m     \u001b[39mself\u001b[39m\u001b[39m.\u001b[39m_latest_release_url\n\u001b[1;32m     67\u001b[0m     \u001b[39mif\u001b[39;00m (determined_browser_version \u001b[39mis\u001b[39;00m \u001b[39mNone\u001b[39;00m)\n\u001b[1;32m     68\u001b[0m     \u001b[39melse\u001b[39;00m \u001b[39mf\u001b[39m\u001b[39m\"\u001b[39m\u001b[39m{\u001b[39;00m\u001b[39mself\u001b[39m\u001b[39m.\u001b[39m_latest_release_url\u001b[39m}\u001b[39;00m\u001b[39m_\u001b[39m\u001b[39m{\u001b[39;00mdetermined_browser_version\u001b[39m}\u001b[39;00m\u001b[39m\"\u001b[39m\n\u001b[1;32m     69\u001b[0m )\n\u001b[1;32m     70\u001b[0m resp \u001b[39m=\u001b[39m \u001b[39mself\u001b[39m\u001b[39m.\u001b[39m_http_client\u001b[39m.\u001b[39mget(url\u001b[39m=\u001b[39mlatest_release_url)\n",
      "\u001b[0;31mAttributeError\u001b[0m: 'NoneType' object has no attribute 'split'"
     ]
    }
   ],
   "source": [
    "from selenium import webdriver\n",
    "from selenium.webdriver.chrome.options import Options\n",
    "from selenium.webdriver.chrome.service import Service\n",
    "from webdriver_manager.chrome import ChromeDriverManager\n",
    "from selenium.webdriver.common.by import By\n",
    "from selenium.webdriver.support.ui import WebDriverWait\n",
    "from selenium.webdriver.common.action_chains import ActionChains\n",
    "from selenium.webdriver.support import expected_conditions as EC\n",
    "\n",
    "\n",
    "driver = webdriver.Firefox()\n",
    "wait =  WebDriverWait(driver, 12);\n",
    "\n",
    "def get_driver():\n",
    "    return webdriver.Chrome(service=Service(ChromeDriverManager().install()), options=options)\n",
    "\n",
    "def get_driver():\n",
    "    return webdriver.Firefox()\n",
    "\n",
    "options = Options()\n",
    "options.add_argument('--disable-gpu')\n",
    "options.add_argument('--headless')\n",
    "driver = get_driver()\n",
    "driver.get(\"http://example.com\")\n",
    "#st.code(driver.page_source)"
   ]
  }
 ],
 "metadata": {
  "kernelspec": {
   "display_name": ".venvGT",
   "language": "python",
   "name": "python3"
  },
  "language_info": {
   "codemirror_mode": {
    "name": "ipython",
    "version": 3
   },
   "file_extension": ".py",
   "mimetype": "text/x-python",
   "name": "python",
   "nbconvert_exporter": "python",
   "pygments_lexer": "ipython3",
   "version": "3.10.12"
  }
 },
 "nbformat": 4,
 "nbformat_minor": 2
}
